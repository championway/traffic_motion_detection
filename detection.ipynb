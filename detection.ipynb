{
 "cells": [
  {
   "cell_type": "code",
   "execution_count": 14,
   "metadata": {},
   "outputs": [],
   "source": [
    "import imutils\n",
    "import time\n",
    "import cv2\n",
    "import sys\n",
    "import matplotlib.pyplot as plt\n",
    "import numpy as np\n",
    "import torch"
   ]
  },
  {
   "cell_type": "code",
   "execution_count": 15,
   "metadata": {},
   "outputs": [],
   "source": [
    "from vision.ssd.vgg_ssd import create_vgg_ssd, create_vgg_ssd_predictor\n",
    "from vision.ssd.mobilenetv1_ssd import create_mobilenetv1_ssd, create_mobilenetv1_ssd_predictor\n",
    "from vision.ssd.mobilenetv1_ssd_lite import create_mobilenetv1_ssd_lite, create_mobilenetv1_ssd_lite_predictor\n",
    "from vision.ssd.squeezenet_ssd_lite import create_squeezenet_ssd_lite, create_squeezenet_ssd_lite_predictor\n",
    "from vision.ssd.mobilenet_v2_ssd_lite import create_mobilenetv2_ssd_lite, create_mobilenetv2_ssd_lite_predictor\n",
    "from vision.utils.misc import Timer"
   ]
  },
  {
   "cell_type": "code",
   "execution_count": 3,
   "metadata": {},
   "outputs": [],
   "source": [
    "img_1 = cv2.imread(\"image/1.jpg\")\n",
    "img_2 = cv2.imread(\"image/2.jpg\")\n",
    "img_3 = cv2.imread(\"image/3.jpg\")\n",
    "img_4 = cv2.imread(\"image/4.jpg\")\n",
    "img_5 = cv2.imread(\"image/5.jpg\")\n",
    "img_6 = cv2.imread(\"image/6.jpg\")\n",
    "img_7 = cv2.imread(\"image/7.jpg\")\n",
    "img_8 = cv2.imread(\"image/8.jpg\")\n",
    "img_9 = cv2.imread(\"image/9.jpg\")"
   ]
  },
  {
   "cell_type": "code",
   "execution_count": 4,
   "metadata": {},
   "outputs": [],
   "source": [
    "def plot_img(img1, img2, img3, img4 = None):\n",
    "    fig = plt.figure(num=None, figsize=(8, 8), dpi=100, facecolor='w', edgecolor='k')\n",
    "\n",
    "    fig.add_subplot(1, 2, 1)\n",
    "    plt.imshow(cv2.cvtColor(img1, cv2.COLOR_BGR2RGB))\n",
    "\n",
    "    fig.add_subplot(1, 2, 2)\n",
    "    plt.imshow(cv2.cvtColor(img2, cv2.COLOR_BGR2RGB))\n",
    "    plt.show()\n",
    "\n",
    "    plt.figure(num=None, figsize=(6, 6), dpi=100, facecolor='w', edgecolor='k')\n",
    "    plt.imshow(cv2.cvtColor(img3, cv2.COLOR_BGR2RGB))\n",
    "    plt.show()\n",
    "\n",
    "    if img4 is not None:\n",
    "        plt.figure(num=None, figsize=(6, 6), dpi=100, facecolor='w', edgecolor='k')\n",
    "        plt.imshow(cv2.cvtColor(img4, cv2.COLOR_BGR2RGB))\n",
    "    plt.show()"
   ]
  },
  {
   "cell_type": "code",
   "execution_count": 5,
   "metadata": {},
   "outputs": [],
   "source": [
    "label_path = \"models/voc-model-labels.txt\"\n",
    "model_path = \"models/mobilenet-v1-ssd-mp-0_675.pth\"\n",
    "\n",
    "# label_path = \"models/voc-model-labels.txt\"\n",
    "# model_path = \"models/mb2-ssd-lite-mp-0_686.pth\""
   ]
  },
  {
   "cell_type": "code",
   "execution_count": 6,
   "metadata": {},
   "outputs": [],
   "source": [
    "class_names = [name.strip() for name in open(label_path).readlines()]\n",
    "num_classes = len(class_names)\n",
    "\n",
    "net = create_mobilenetv1_ssd(len(class_names), is_test=True)\n",
    "predictor = create_mobilenetv1_ssd_predictor(net, candidate_size=200)\n",
    "\n",
    "# net = create_mobilenetv2_ssd_lite(len(class_names), is_test=True)\n",
    "# predictor = create_mobilenetv2_ssd_lite_predictor(net, candidate_size=200)\n",
    "\n",
    "net.load(model_path)"
   ]
  },
  {
   "cell_type": "code",
   "execution_count": 51,
   "metadata": {},
   "outputs": [],
   "source": [
    "pts1 = []\n",
    "pts2 = []\n",
    "count = [0]\n",
    "def click_Mouse(event, x, y, flags, param):\n",
    "    global click_p\n",
    "    if event == cv2.EVENT_LBUTTONUP:\n",
    "        if count[0] < 4:\n",
    "            pts1.append([x, y])\n",
    "        else:\n",
    "            pts2.append([x, y])\n",
    "        count[0] += 1\n",
    "\n",
    "cv2.namedWindow(\"vector\", 0)\n",
    "cv2.resizeWindow(\"vector\", 750, 750);\n",
    "cv2.setMouseCallback(\"vector\", click_Mouse)\n",
    "cv2.imshow(\"vector\", frame)\n",
    "# ch = cv2.waitKey(1)\n",
    "# if ch & 0xFF == ord('q'):\n",
    "cv2.waitKey(0)\n",
    "cv2.destroyAllWindows() \n",
    "pts1 = np.float32(pts1) \n",
    "pts2 = np.float32(pts2)"
   ]
  },
  {
   "cell_type": "code",
   "execution_count": 146,
   "metadata": {},
   "outputs": [],
   "source": [
    "# Create capture object\n",
    "cap = cv2.VideoCapture(5) # Flush the stream\n",
    "\n",
    "#cap = cv2.VideoCapture(1) # Then start the webcam\n",
    "# cap = cv2.VideoCapture('video/wind_rain.mp4')\n",
    "cap = cv2.VideoCapture('video/normal_night.mp4')\n",
    "# cap = cv2.VideoCapture('video/dark.mp4')\n",
    "# cap = cv2.VideoCapture('video/622.mp4')\n",
    "# cap = cv2.VideoCapture(0)   # capture from camera\n",
    "# cap.set(3, 1920)\n",
    "# cap.set(4, 1080)\n",
    "\n",
    "cv2.namedWindow(\"frame\",0);\n",
    "cv2.resizeWindow(\"frame\", 750, 750);\n",
    "M = cv2.getPerspectiveTransform(pts1,pts2)\n",
    "M_shift = np.eye(3)\n",
    "M_shift[0,2] = 1327 # x\n",
    "M_shift[1,2] = 385 # y\n",
    "M_ = np.matmul(M_shift, M)\n",
    "while(cap.isOpened()):\n",
    "    ret, frame = cap.read()\n",
    "    if (frame is not None):\n",
    "        image = cv2.cvtColor(frame, cv2.COLOR_BGR2RGB)\n",
    "        boxes, labels, probs = predictor.predict(image, 10, 0.25)\n",
    "        for i in range(boxes.size(0)):\n",
    "            box = boxes[i, :]\n",
    "            label = f\"{class_names[labels[i]]}: {probs[i]:.2f}\"\n",
    "            cv2.rectangle(frame, (box[0], box[1]), (box[2], box[3]), (255, 255, 0), 4)\n",
    "\n",
    "            cv2.putText(frame, label,\n",
    "                        (box[0]+20, box[1]+40),\n",
    "                        cv2.FONT_HERSHEY_SIMPLEX,\n",
    "                        1,  # font scale\n",
    "                        (255, 0, 255),\n",
    "                        2)  # line type\n",
    "\n",
    "        frame = cv2.warpPerspective(frame, M_,(1800+1327, 1080+385))\n",
    "#         frame = cv2.warpPerspective(frame, M_,(frame.shape[1], frame.shape[0]))\n",
    "        cv2.imshow('frame',frame)\n",
    "    if cv2.waitKey(1) & 0xFF == ord('q'):\n",
    "        break\n",
    "\n",
    "cap.release()\n",
    "cv2.destroyAllWindows()"
   ]
  },
  {
   "cell_type": "code",
   "execution_count": 122,
   "metadata": {},
   "outputs": [],
   "source": [
    "min_x = 1000\n",
    "min_y = 1000\n",
    "max_x = -1000\n",
    "max_y = -1000\n",
    "for i in range(frame.shape[0]): # y\n",
    "    for j in range(frame.shape[1]): # x\n",
    "        p = np.matmul(M, [j, i, 1])\n",
    "        min_x = min(min_x, p[0])\n",
    "        min_y = min(min_y, p[1])\n",
    "        max_x = max(max_x, p[0])\n",
    "        max_y = max(max_y, p[1])"
   ]
  },
  {
   "cell_type": "code",
   "execution_count": 144,
   "metadata": {},
   "outputs": [
    {
     "data": {
      "text/plain": [
       "array([ 1.62788359e+03, -3.85010974e+02,  1.04491859e+00])"
      ]
     },
     "execution_count": 144,
     "metadata": {},
     "output_type": "execute_result"
    }
   ],
   "source": [
    "np.matmul(M, [1919, 0, 1])"
   ]
  },
  {
   "cell_type": "code",
   "execution_count": 123,
   "metadata": {},
   "outputs": [
    {
     "name": "stdout",
     "output_type": "stream",
     "text": [
      "-1327.393590443272 -385.62224901508836 3764.2140761975525 2432.606865428087\n",
      "(1080, 1920, 3)\n"
     ]
    }
   ],
   "source": [
    "print(min_x, min_y, max_x, max_y)\n",
    "print(frame.shape)"
   ]
  }
 ],
 "metadata": {
  "kernelspec": {
   "display_name": "Python 3",
   "language": "python",
   "name": "python3"
  },
  "language_info": {
   "codemirror_mode": {
    "name": "ipython",
    "version": 3
   },
   "file_extension": ".py",
   "mimetype": "text/x-python",
   "name": "python",
   "nbconvert_exporter": "python",
   "pygments_lexer": "ipython3",
   "version": "3.7.4"
  }
 },
 "nbformat": 4,
 "nbformat_minor": 4
}
