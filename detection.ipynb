{
 "cells": [
  {
   "cell_type": "code",
   "execution_count": 1,
   "metadata": {},
   "outputs": [],
   "source": [
    "import imutils\n",
    "import time\n",
    "import cv2\n",
    "import sys\n",
    "import matplotlib.pyplot as plt\n",
    "import numpy as np\n",
    "import torch\n",
    "import math\n",
    "import random\n",
    "%matplotlib notebook"
   ]
  },
  {
   "cell_type": "code",
   "execution_count": 2,
   "metadata": {},
   "outputs": [],
   "source": [
    "from vision.ssd.vgg_ssd import create_vgg_ssd, create_vgg_ssd_predictor\n",
    "from vision.ssd.mobilenetv1_ssd import create_mobilenetv1_ssd, create_mobilenetv1_ssd_predictor\n",
    "from vision.ssd.mobilenetv1_ssd_lite import create_mobilenetv1_ssd_lite, create_mobilenetv1_ssd_lite_predictor\n",
    "from vision.ssd.squeezenet_ssd_lite import create_squeezenet_ssd_lite, create_squeezenet_ssd_lite_predictor\n",
    "from vision.ssd.mobilenet_v2_ssd_lite import create_mobilenetv2_ssd_lite, create_mobilenetv2_ssd_lite_predictor\n",
    "from vision.utils.misc import Timer"
   ]
  },
  {
   "cell_type": "code",
   "execution_count": 3,
   "metadata": {},
   "outputs": [],
   "source": [
    "img_1 = cv2.imread(\"image/1.jpg\")\n",
    "img_2 = cv2.imread(\"image/2.jpg\")\n",
    "img_3 = cv2.imread(\"image/3.jpg\")\n",
    "img_4 = cv2.imread(\"image/4.jpg\")\n",
    "img_5 = cv2.imread(\"image/5.jpg\")\n",
    "img_6 = cv2.imread(\"image/6.jpg\")\n",
    "img_7 = cv2.imread(\"image/7.jpg\")\n",
    "img_8 = cv2.imread(\"image/8.jpg\")\n",
    "img_9 = cv2.imread(\"image/9.jpg\")"
   ]
  },
  {
   "cell_type": "code",
   "execution_count": 4,
   "metadata": {},
   "outputs": [],
   "source": [
    "def plot_img(img1, img2, img3, img4 = None):\n",
    "    fig = plt.figure(num=None, figsize=(8, 8), dpi=100, facecolor='w', edgecolor='k')\n",
    "\n",
    "    fig.add_subplot(1, 2, 1)\n",
    "    plt.imshow(cv2.cvtColor(img1, cv2.COLOR_BGR2RGB))\n",
    "\n",
    "    fig.add_subplot(1, 2, 2)\n",
    "    plt.imshow(cv2.cvtColor(img2, cv2.COLOR_BGR2RGB))\n",
    "    plt.show()\n",
    "\n",
    "    plt.figure(num=None, figsize=(6, 6), dpi=100, facecolor='w', edgecolor='k')\n",
    "    plt.imshow(cv2.cvtColor(img3, cv2.COLOR_BGR2RGB))\n",
    "    plt.show()\n",
    "\n",
    "    if img4 is not None:\n",
    "        plt.figure(num=None, figsize=(6, 6), dpi=100, facecolor='w', edgecolor='k')\n",
    "        plt.imshow(cv2.cvtColor(img4, cv2.COLOR_BGR2RGB))\n",
    "    plt.show()"
   ]
  },
  {
   "cell_type": "code",
   "execution_count": 5,
   "metadata": {},
   "outputs": [],
   "source": [
    "label_path = \"models/voc-model-labels.txt\"\n",
    "model_path = \"models/mobilenet-v1-ssd-mp-0_675.pth\"\n",
    "\n",
    "# label_path = \"models/voc-model-labels.txt\"\n",
    "# model_path = \"models/mb2-ssd-lite-mp-0_686.pth\""
   ]
  },
  {
   "cell_type": "code",
   "execution_count": 6,
   "metadata": {},
   "outputs": [],
   "source": [
    "class_names = [name.strip() for name in open(label_path).readlines()]\n",
    "num_classes = len(class_names)\n",
    "\n",
    "net = create_mobilenetv1_ssd(len(class_names), is_test=True)\n",
    "predictor = create_mobilenetv1_ssd_predictor(net, candidate_size=200)\n",
    "\n",
    "# net = create_mobilenetv2_ssd_lite(len(class_names), is_test=True)\n",
    "# predictor = create_mobilenetv2_ssd_lite_predictor(net, candidate_size=200)\n",
    "\n",
    "net.load(model_path)"
   ]
  },
  {
   "cell_type": "code",
   "execution_count": 7,
   "metadata": {},
   "outputs": [],
   "source": [
    "def camera2global(M, p):\n",
    "    if len(p) == 2:\n",
    "        p.append(1.)\n",
    "    return np.matmul(M, p).astype(int)\n",
    "def global2camera(M, p):\n",
    "    if len(p) == 2:\n",
    "        p.append(1.)\n",
    "    return np.matmul(np.linalg.inv(M), p).astype(int)"
   ]
  },
  {
   "cell_type": "code",
   "execution_count": 8,
   "metadata": {},
   "outputs": [],
   "source": [
    "pts1 = np.float32([[1100.,  151.],\n",
    "       [ 335.,  951.],\n",
    "       [1669.,  954.],\n",
    "       [1884.,  156.]])\n",
    "\n",
    "pts2 = np.float32([[ 624.,   82.],\n",
    "       [ 619.,  997.],\n",
    "       [1518.,  969.],\n",
    "       [1530.,   43.]])"
   ]
  },
  {
   "cell_type": "code",
   "execution_count": 9,
   "metadata": {},
   "outputs": [],
   "source": [
    "color_map = [(0, 180, 270), (255, 180, 0), (100, 170, 100)\n",
    "            , (50, 255, 0), (0, 255, 30), (100, 30, 250)\n",
    "            , (20, 90, 250), (200, 0, 20), (200, 200, 30)\n",
    "            , (200, 30, 30), (200, 200, 20), (100, 30, 250)]"
   ]
  },
  {
   "cell_type": "code",
   "execution_count": 10,
   "metadata": {},
   "outputs": [],
   "source": [
    "# cap = cv2.VideoCapture('video/normal_night.mp4')\n",
    "# ret, frame = cap.read()\n",
    "# pts1 = []\n",
    "# pts2 = []\n",
    "# count = [0]\n",
    "# def click_Mouse(event, x, y, flags, param):\n",
    "#     global click_p\n",
    "#     if event == cv2.EVENT_LBUTTONUP:\n",
    "#         if count[0] < 4:\n",
    "#             pts1.append([x, y])\n",
    "#         else:\n",
    "#             pts2.append([x, y])\n",
    "#         count[0] += 1\n",
    "\n",
    "# cv2.namedWindow(\"vector\", 0)\n",
    "# cv2.resizeWindow(\"vector\", 750, 750);\n",
    "# cv2.setMouseCallback(\"vector\", click_Mouse)\n",
    "# cv2.imshow(\"vector\", frame)\n",
    "# # ch = cv2.waitKey(1)\n",
    "# # if ch & 0xFF == ord('q'):\n",
    "# cv2.waitKey(0)\n",
    "# cv2.destroyAllWindows() \n",
    "# pts1 = np.float32(pts1) \n",
    "# pts2 = np.float32(pts2)"
   ]
  },
  {
   "cell_type": "code",
   "execution_count": 11,
   "metadata": {},
   "outputs": [],
   "source": [
    "video1 = 'video/wind_rain.mp4'\n",
    "video2 = 'video/normal_night.mp4'\n",
    "video3 = 'video/dark.mp4'\n",
    "video4 = 'video/622.mp4'\n",
    "cam = 0   # capture from camera"
   ]
  },
  {
   "cell_type": "code",
   "execution_count": 12,
   "metadata": {},
   "outputs": [],
   "source": [
    "def f(mu, sigma2, x):\n",
    "    coefficient = 1.0/math.sqrt(2.0 * math.pi * sigma2)\n",
    "    exponential = exp(-0.5 * (x-mu) ** 2 / sigma2)\n",
    "    return coefficient * exponential\n",
    "def update(mean1, var1, mean2, var2):\n",
    "    new_mean = (var2 * mean1 + var1*mean2) / (var2 + var1)\n",
    "    new_var = 1/(1/var2 + 1/var1)\n",
    "    return [new_mean, new_var]\n",
    "def predict(mean1, var1, mean2, var2):\n",
    "    new_mean = mean1 + mean2\n",
    "    new_var = var1 + var2\n",
    "    return [new_mean, new_var]"
   ]
  },
  {
   "cell_type": "code",
   "execution_count": 13,
   "metadata": {},
   "outputs": [],
   "source": [
    "def plot_img(img1, path):\n",
    "    fig = plt.figure(num=None, figsize=(10, 10), dpi=200, facecolor='w', edgecolor='k')\n",
    "\n",
    "    fig.add_subplot(1, 2, 1)\n",
    "    plt.imshow(cv2.cvtColor(img1, cv2.COLOR_BGR2RGB))\n",
    "\n",
    "    fig.add_subplot(1, 2, 2)\n",
    "    plt.imshow(cv2.cvtColor(path, cv2.COLOR_BGR2RGB))\n",
    "    plt.show()"
   ]
  },
  {
   "cell_type": "code",
   "execution_count": 14,
   "metadata": {},
   "outputs": [],
   "source": [
    "class Obj(object):\n",
    "    def __init__(self, pose, idx=-1, idleness=0):\n",
    "        self.idleness = idleness\n",
    "        self.idx = idx\n",
    "        self.category = \"\"\n",
    "        self.pose = pose\n",
    "        self.path = [pose]\n",
    "        self.alert_cnt = 0\n",
    "        \n",
    "    def get_idx(self):\n",
    "        return self.idx\n",
    "    \n",
    "    def get_category(self):\n",
    "        return self.category\n",
    "    \n",
    "    def get_idleness(self):\n",
    "        return self.idleness\n",
    "    \n",
    "    def get_pose(self):\n",
    "        return self.pose\n",
    "    \n",
    "    def get_alert_cnt(self):\n",
    "        return self.alert_cnt\n",
    "    \n",
    "    def set_idx(self, idx):\n",
    "        self.idx = idx\n",
    "    \n",
    "    def set_pose(self, pose):\n",
    "        self.pose = pose\n",
    "        self.path.append(pose)\n",
    "        \n",
    "    def reset_idleness(self):\n",
    "        self.idleness = 0\n",
    "    \n",
    "    def add_idleness(self, num):\n",
    "        self.idleness = self.idleness + num\n",
    "        \n",
    "    def reset_alert_cnt(self):\n",
    "        self.alert_cnt = 0\n",
    "    \n",
    "    def add_alert_cnt(self, num):\n",
    "        self.alert_cnt = self.alert_cnt + num\n",
    "    \n",
    "    def add_path(self, pose):\n",
    "        self.path.append(pose)\n",
    "    \n",
    "    def get_path(self, idx=None):\n",
    "        if idx is None:\n",
    "            return self.path\n",
    "        else:\n",
    "            return self.path[idx]"
   ]
  },
  {
   "cell_type": "code",
   "execution_count": 27,
   "metadata": {},
   "outputs": [],
   "source": [
    "def distance(p1, p2):\n",
    "    return math.sqrt((p1[0]-p2[0])**2 + (p1[1]-p2[1])**2)"
   ]
  },
  {
   "cell_type": "code",
   "execution_count": 61,
   "metadata": {},
   "outputs": [
    {
     "name": "stdout",
     "output_type": "stream",
     "text": [
      "96.813847515295 1.689720400665629\n"
     ]
    }
   ],
   "source": [
    "def limit_rad(rad):\n",
    "    if rad > np.pi:\n",
    "        return limit_rad(rad - 2.*np.pi)\n",
    "    elif rad < -np.pi:\n",
    "        return limit_rad(rad + 2.*np.pi)\n",
    "    else:\n",
    "        return rad\n",
    "    \n",
    "def check_direction(rad, shift):\n",
    "    rad = limit_rad(rad + np.pi/2. - shift)\n",
    "    if rad > np.pi/4. and rad < 3.*np.pi/4.:\n",
    "        return 1\n",
    "    elif rad < -np.pi/4. and rad > -3.*np.pi/4.: \n",
    "        return -1\n",
    "    return 0\n",
    "\n",
    "def click_Mouse(event, x, y, flags, param):\n",
    "    global click_p\n",
    "    if event == cv2.EVENT_LBUTTONDOWN:\n",
    "        click_p = [[x, y]]\n",
    "    elif event == cv2.EVENT_LBUTTONUP:\n",
    "        click_p.append([x, y])\n",
    "        fy = click_p[1][1] - click_p[0][1]\n",
    "        fx = click_p[1][0] - click_p[0][0]\n",
    "        rad = np.arctan2(fy, fx)\n",
    "        shift = np.radians(90.)\n",
    "        direct = check_direction(rad, shift)\n",
    "        print(np.degrees(rad), rad)\n",
    "\n",
    "cv2.namedWindow(\"vector\", 0)\n",
    "cv2.resizeWindow(\"vector\", 750, 750);\n",
    "cv2.setMouseCallback(\"vector\", click_Mouse)\n",
    "cv2.imshow(\"vector\", frame)\n",
    "cv2.waitKey(0)\n",
    "cv2.destroyAllWindows()  "
   ]
  },
  {
   "cell_type": "code",
   "execution_count": 64,
   "metadata": {},
   "outputs": [],
   "source": [
    "warp = False\n",
    "src = video2\n",
    "cap = cv2.VideoCapture(src)\n",
    "M = cv2.getPerspectiveTransform(pts1,pts2)\n",
    "M_shift = np.eye(3)\n",
    "M_shift[0,2] = 942.48 # x\n",
    "M_shift[1,2] = 383 # y\n",
    "M_ = np.matmul(M_shift, M)\n",
    "ret, frame = cap.read()\n",
    "if warp:\n",
    "    frame = cv2.warpPerspective(frame, M_,(frame.shape[1]+942, frame.shape[0]+383))\n",
    "img_shape = frame.shape"
   ]
  },
  {
   "cell_type": "code",
   "execution_count": 69,
   "metadata": {},
   "outputs": [
    {
     "name": "stdout",
     "output_type": "stream",
     "text": [
      "4\n",
      "5\n",
      "6\n",
      "7\n",
      "6\n",
      "7\n",
      "6\n",
      "5\n",
      "6\n",
      "5\n",
      "4\n",
      "5\n",
      "6\n",
      "5\n",
      "4\n",
      "4\n",
      "4\n",
      "4\n",
      "5\n",
      "6\n",
      "7\n",
      "8\n",
      "9\n",
      "10\n",
      "11\n",
      "12\n",
      "13\n",
      "14\n",
      "15\n",
      "14\n",
      "15\n",
      "14\n",
      "13\n",
      "12\n",
      "11\n",
      "10\n",
      "9\n",
      "10\n",
      "9\n",
      "8\n",
      "9\n",
      "8\n",
      "8\n",
      "8\n",
      "4\n",
      "4\n",
      "4\n",
      "4\n",
      "4\n",
      "4\n"
     ]
    }
   ],
   "source": [
    "SHIFT = 1.5639937106400879\n",
    "cap = cv2.VideoCapture(src)\n",
    "cv2.namedWindow(\"frame\",0);\n",
    "cv2.resizeWindow(\"frame\", 750, 750);\n",
    "cv2.namedWindow(\"path\",0);\n",
    "cv2.resizeWindow(\"path\", 750, 750);\n",
    "path = np.zeros((img_shape[0], img_shape[1], 3), np.uint8)\n",
    "obj_list = []\n",
    "idx_count = -1\n",
    "alert = False\n",
    "DIS_THRESH = 300\n",
    "MOVE_THRESH = 3\n",
    "while(cap.isOpened()):\n",
    "    alert = False\n",
    "    ret, frame = cap.read()\n",
    "    if frame is not None:\n",
    "        image = cv2.cvtColor(frame, cv2.COLOR_BGR2RGB)\n",
    "        boxes, labels, probs = predictor.predict(image, 10, 0.35)\n",
    "        boxes = boxes.numpy().astype(int)\n",
    "        detections = []\n",
    "        for i in range(len(boxes)):\n",
    "            box = boxes[i, :]\n",
    "            label = f\"{class_names[labels[i]]}: {probs[i]:.2f}\"\n",
    "            cv2.rectangle(frame, (box[0], box[1]), (box[2], box[3]), (255, 255, 0), 4)\n",
    "            if warp:\n",
    "                center = camera2global(M_, [(box[0]+box[2])/2, (box[1]+box[3])/2])\n",
    "            else:\n",
    "                center = [int((box[0]+box[2])/2), int((box[1]+box[3])/2)]\n",
    "            obj = Obj(center[:2], i, 0)\n",
    "            detections.append(obj)\n",
    "            \n",
    "            cv2.putText(frame, label,\n",
    "                        (box[0]+20, box[1]+40),\n",
    "                        cv2.FONT_HERSHEY_SIMPLEX,\n",
    "                        1,  # font scale\n",
    "                        (255, 0, 255),\n",
    "                        2)  # line type\n",
    "    \n",
    "        # Tracking Algorithm\n",
    "        choose_detection_list = []\n",
    "        for obj in obj_list:\n",
    "            closest_detection_idx = -1\n",
    "            min_dis = 1000000\n",
    "            for detection in detections:\n",
    "                if detection.get_idx() in choose_detection_list:\n",
    "                    continue\n",
    "                dis = distance(obj.get_pose(), detection.get_pose())\n",
    "                if dis < DIS_THRESH and dis < min_dis:\n",
    "                    closest_detection_idx = detection.get_idx()\n",
    "                    min_dis = dis\n",
    "            # keep tracking certain object\n",
    "            if closest_detection_idx != -1:\n",
    "                choose_detection_list.append(closest_detection_idx)\n",
    "                obj.set_pose(detections[closest_detection_idx].get_pose())\n",
    "                obj.reset_idleness()\n",
    "                p1 = obj.get_path(-2)\n",
    "                p2 = obj.get_path(-1)\n",
    "                fx = p2[0] - p1[0]\n",
    "                fy = p2[1] - p1[1]\n",
    "                ang = np.arctan2(fy, fx)\n",
    "                v = np.sqrt(fx * fx + fy * fy)\n",
    "                if check_direction(ang, SHIFT) and v > MOVE_THRESH:\n",
    "                    obj.add_alert_cnt(1)\n",
    "                else:\n",
    "                    obj.add_alert_cnt(-1)\n",
    "            else:\n",
    "                obj.add_idleness(1)\n",
    "                \n",
    "        for detection in detections:\n",
    "            if detection.get_idx() not in choose_detection_list:\n",
    "                idx_count += 1\n",
    "                detection.set_idx(idx_count)\n",
    "                obj_list.append(detection)\n",
    "                \n",
    "        temp_obj_list = []\n",
    "        for obj in obj_list:\n",
    "            if obj.get_idleness() < 3:\n",
    "                temp_obj_list.append(obj)\n",
    "                if obj.get_alert_cnt() > 3:\n",
    "                    print(obj.get_alert_cnt())\n",
    "                    alert = True\n",
    "                    cv2.circle(path, tuple(obj.get_pose()), 15, (255, 255, 255), -1)\n",
    "                else:\n",
    "                    cv2.circle(path, tuple(obj.get_pose()), 15, color_map[obj.get_idx()%9], -1)\n",
    "                \n",
    "        obj_list = temp_obj_list.copy()\n",
    "        if warp:\n",
    "            frame = cv2.warpPerspective(frame, M_,(frame.shape[1]+942, frame.shape[0]+383))\n",
    "        if alert:\n",
    "            cv2.rectangle(frame, (0, 0), (img_shape[1]-1, img_shape[0]-1), (0, 0, 255), 50)\n",
    "        else:\n",
    "            cv2.rectangle(frame, (0, 0), (img_shape[1]-1, img_shape[0]-1), (0, 255, 0), 50)\n",
    "        cv2.imshow('frame',frame)\n",
    "        cv2.imshow('path',path)\n",
    "    if cv2.waitKey(1) & 0xFF == ord('q'):\n",
    "        break\n",
    "\n",
    "cap.release()\n",
    "cv2.destroyAllWindows()"
   ]
  },
  {
   "cell_type": "code",
   "execution_count": 12,
   "metadata": {},
   "outputs": [
    {
     "data": {
      "image/png": "[encoded data removed]",
      "text/plain": [
       "<Figure size 432x288 with 1 Axes>"
      ]
     },
     "metadata": {
      "needs_background": "light"
     },
     "output_type": "display_data"
    }
   ],
   "source": [
    "# Create capture object\n",
    "cap = cv2.VideoCapture(5) # Flush the stream\n",
    "\n",
    "#cap = cv2.VideoCapture(1) # Then start the webcam\n",
    "# cap = cv2.VideoCapture('video/wind_rain.mp4')\n",
    "cap = cv2.VideoCapture('video/normal_night.mp4')\n",
    "# cap = cv2.VideoCapture('video/dark.mp4')\n",
    "# cap = cv2.VideoCapture('video/622.mp4')\n",
    "# cap = cv2.VideoCapture(0)   # capture from camera\n",
    "# cap.set(3, 1920)\n",
    "# cap.set(4, 1080)\n",
    "\n",
    "cv2.namedWindow(\"frame\",0);\n",
    "cv2.resizeWindow(\"frame\", 750, 750);\n",
    "M = cv2.getPerspectiveTransform(pts1,pts2)\n",
    "M_shift = np.eye(3)\n",
    "M_shift[0,2] = 942.48 # x\n",
    "M_shift[1,2] = 383 # y\n",
    "M_ = np.matmul(M_shift, M)\n",
    "while(cap.isOpened()):\n",
    "    ret, frame = cap.read()\n",
    "    if (frame is not None):\n",
    "        image = cv2.cvtColor(frame, cv2.COLOR_BGR2RGB)\n",
    "        boxes, labels, probs = predictor.predict(image, 10, 0.25)\n",
    "        for i in range(boxes.size(0)):\n",
    "            box = boxes[i, :]\n",
    "            label = f\"{class_names[labels[i]]}: {probs[i]:.2f}\"\n",
    "            cv2.rectangle(frame, (box[0], box[1]), (box[2], box[3]), (255, 255, 0), 4)\n",
    "\n",
    "            cv2.putText(frame, label,\n",
    "                        (box[0]+20, box[1]+40),\n",
    "                        cv2.FONT_HERSHEY_SIMPLEX,\n",
    "                        1,  # font scale\n",
    "                        (255, 0, 255),\n",
    "                        2)  # line type\n",
    "            x = [125, 169]\n",
    "            y = [100, 124]\n",
    "            plt.plot(x, y)\n",
    "        \n",
    "\n",
    "#         frame = cv2.warpPerspective(frame, M_,(frame.shape[1]+942, frame.shape[0]+383))\n",
    "#         frame = cv2.warpPerspective(frame, M,(frame.shape[1], frame.shape[0]))\n",
    "#         frame = cv2.warpPerspective(frame, M_,(frame.shape[1], frame.shape[0]))\n",
    "        cv2.imshow('frame',frame)\n",
    "    if cv2.waitKey(1) & 0xFF == ord('q'):\n",
    "        break\n",
    "\n",
    "cap.release()\n",
    "cv2.destroyAllWindows()"
   ]
  },
  {
   "cell_type": "code",
   "execution_count": 10,
   "metadata": {},
   "outputs": [],
   "source": [
    "min_x = 1000\n",
    "min_y = 1000\n",
    "max_x = -1000\n",
    "max_y = -1000\n",
    "for i in range(frame.shape[0]): # y\n",
    "    for j in range(frame.shape[1]): # x\n",
    "        p = np.matmul(M, [j, i, 1])\n",
    "        min_x = min(min_x, p[0])\n",
    "        min_y = min(min_y, p[1])\n",
    "        max_x = max(max_x, p[0])\n",
    "        max_y = max(max_y, p[1])"
   ]
  },
  {
   "cell_type": "code",
   "execution_count": 37,
   "metadata": {},
   "outputs": [],
   "source": [
    "p1 = np.array([frame.shape[1]-1, frame.shape[0]-1, 1])\n",
    "p2 = np.array([frame.shape[1]-1, 0, 1])\n",
    "p3 = np.array([0, frame.shape[0]-1, 1])\n",
    "p4 = np.array([0, 0, 1])"
   ]
  },
  {
   "cell_type": "code",
   "execution_count": 44,
   "metadata": {},
   "outputs": [
    {
     "data": {
      "text/plain": [
       "array([0., 0., 1.])"
      ]
     },
     "execution_count": 44,
     "metadata": {},
     "output_type": "execute_result"
    }
   ],
   "source": [
    "c2g(M, p4)\n",
    "g2c(M, c2g(M, p4))"
   ]
  },
  {
   "cell_type": "code",
   "execution_count": 30,
   "metadata": {},
   "outputs": [
    {
     "data": {
      "text/plain": [
       "array([-275.83737774,  302.7795715 ,    1.20523873])"
      ]
     },
     "execution_count": 30,
     "metadata": {},
     "output_type": "execute_result"
    }
   ],
   "source": [
    "a = np.matmul(M, [220, 219, 1])\n",
    "a"
   ]
  },
  {
   "cell_type": "code",
   "execution_count": 31,
   "metadata": {},
   "outputs": [
    {
     "data": {
      "text/plain": [
       "array([220., 219.,   1.])"
      ]
     },
     "execution_count": 31,
     "metadata": {},
     "output_type": "execute_result"
    }
   ],
   "source": [
    "np.matmul(np.linalg.inv(M), a)"
   ]
  },
  {
   "cell_type": "code",
   "execution_count": 33,
   "metadata": {},
   "outputs": [
    {
     "name": "stdout",
     "output_type": "stream",
     "text": [
      "-942.4806114538623 -383.0608913082446 5570.814650645365 3053.9478925008257\n"
     ]
    },
    {
     "ename": "AttributeError",
     "evalue": "'NoneType' object has no attribute 'shape'",
     "output_type": "error",
     "traceback": [
      "\u001b[0;31m---------------------------------------------------------------------------\u001b[0m",
      "\u001b[0;31mAttributeError\u001b[0m                            Traceback (most recent call last)",
      "\u001b[0;32m<ipython-input-33-b106c6a484f2>\u001b[0m in \u001b[0;36m<module>\u001b[0;34m\u001b[0m\n\u001b[1;32m      1\u001b[0m \u001b[0mprint\u001b[0m\u001b[0;34m(\u001b[0m\u001b[0mmin_x\u001b[0m\u001b[0;34m,\u001b[0m \u001b[0mmin_y\u001b[0m\u001b[0;34m,\u001b[0m \u001b[0mmax_x\u001b[0m\u001b[0;34m,\u001b[0m \u001b[0mmax_y\u001b[0m\u001b[0;34m)\u001b[0m\u001b[0;34m\u001b[0m\u001b[0;34m\u001b[0m\u001b[0m\n\u001b[0;32m----> 2\u001b[0;31m \u001b[0mprint\u001b[0m\u001b[0;34m(\u001b[0m\u001b[0mframe\u001b[0m\u001b[0;34m.\u001b[0m\u001b[0mshape\u001b[0m\u001b[0;34m)\u001b[0m\u001b[0;34m\u001b[0m\u001b[0;34m\u001b[0m\u001b[0m\n\u001b[0m",
      "\u001b[0;31mAttributeError\u001b[0m: 'NoneType' object has no attribute 'shape'"
     ]
    }
   ],
   "source": [
    "print(min_x, min_y, max_x, max_y)\n",
    "print(frame.shape)"
   ]
  }
 ],
 "metadata": {
  "kernelspec": {
   "display_name": "Python 3",
   "language": "python",
   "name": "python3"
  },
  "language_info": {
   "codemirror_mode": {
    "name": "ipython",
    "version": 3
   },
   "file_extension": ".py",
   "mimetype": "text/x-python",
   "name": "python",
   "nbconvert_exporter": "python",
   "pygments_lexer": "ipython3",
   "version": "3.7.4"
  }
 },
 "nbformat": 4,
 "nbformat_minor": 4
}
