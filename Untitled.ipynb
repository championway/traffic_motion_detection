{
 "cells": [
  {
   "cell_type": "code",
   "execution_count": 2,
   "metadata": {},
   "outputs": [],
   "source": [
    "import imutils\n",
    "import time\n",
    "import cv2\n",
    "import sys\n",
    "import matplotlib.pyplot as plt\n",
    "import numpy as np\n",
    "import torch"
   ]
  },
  {
   "cell_type": "code",
   "execution_count": 3,
   "metadata": {},
   "outputs": [],
   "source": [
    "from vision.ssd.vgg_ssd import create_vgg_ssd, create_vgg_ssd_predictor\n",
    "from vision.ssd.mobilenetv1_ssd import create_mobilenetv1_ssd, create_mobilenetv1_ssd_predictor\n",
    "from vision.ssd.mobilenetv1_ssd_lite import create_mobilenetv1_ssd_lite, create_mobilenetv1_ssd_lite_predictor\n",
    "from vision.ssd.squeezenet_ssd_lite import create_squeezenet_ssd_lite, create_squeezenet_ssd_lite_predictor\n",
    "from vision.ssd.mobilenet_v2_ssd_lite import create_mobilenetv2_ssd_lite, create_mobilenetv2_ssd_lite_predictor\n",
    "from vision.utils.misc import Timer"
   ]
  },
  {
   "cell_type": "code",
   "execution_count": 4,
   "metadata": {},
   "outputs": [],
   "source": [
    "img_1 = cv2.imread(\"image/1.jpg\")\n",
    "img_2 = cv2.imread(\"image/2.jpg\")\n",
    "img_3 = cv2.imread(\"image/3.jpg\")\n",
    "img_4 = cv2.imread(\"image/4.jpg\")\n",
    "img_5 = cv2.imread(\"image/5.jpg\")\n",
    "img_6 = cv2.imread(\"image/6.jpg\")\n",
    "img_7 = cv2.imread(\"image/7.jpg\")\n",
    "img_8 = cv2.imread(\"image/8.jpg\")\n",
    "img_9 = cv2.imread(\"image/9.jpg\")"
   ]
  },
  {
   "cell_type": "code",
   "execution_count": 5,
   "metadata": {},
   "outputs": [],
   "source": [
    "def plot_img(img1, img2, img3, img4 = None):\n",
    "    fig = plt.figure(num=None, figsize=(8, 8), dpi=100, facecolor='w', edgecolor='k')\n",
    "\n",
    "    fig.add_subplot(1, 2, 1)\n",
    "    plt.imshow(cv2.cvtColor(img1, cv2.COLOR_BGR2RGB))\n",
    "\n",
    "    fig.add_subplot(1, 2, 2)\n",
    "    plt.imshow(cv2.cvtColor(img2, cv2.COLOR_BGR2RGB))\n",
    "    plt.show()\n",
    "\n",
    "    plt.figure(num=None, figsize=(6, 6), dpi=100, facecolor='w', edgecolor='k')\n",
    "    plt.imshow(cv2.cvtColor(img3, cv2.COLOR_BGR2RGB))\n",
    "    plt.show()\n",
    "\n",
    "    if img4 is not None:\n",
    "        plt.figure(num=None, figsize=(6, 6), dpi=100, facecolor='w', edgecolor='k')\n",
    "        plt.imshow(cv2.cvtColor(img4, cv2.COLOR_BGR2RGB))\n",
    "    plt.show()"
   ]
  },
  {
   "cell_type": "code",
   "execution_count": 6,
   "metadata": {},
   "outputs": [],
   "source": [
    "# label_path = \"models/voc-model-labels.txt\"\n",
    "# model_path = \"models/mobilenet-v1-ssd-mp-0_675.pth\"\n",
    "\n",
    "label_path = \"models/voc-model-labels.txt\"\n",
    "model_path = \"models/mb2-ssd-lite-mp-0_686.pth\""
   ]
  },
  {
   "cell_type": "code",
   "execution_count": 7,
   "metadata": {},
   "outputs": [],
   "source": [
    "class_names = [name.strip() for name in open(label_path).readlines()]\n",
    "num_classes = len(class_names)\n",
    "\n",
    "# net = create_mobilenetv1_ssd(len(class_names), is_test=True)\n",
    "# predictor = create_mobilenetv1_ssd_predictor(net, candidate_size=200)\n",
    "\n",
    "net = create_mobilenetv2_ssd_lite(len(class_names), is_test=True)\n",
    "predictor = create_mobilenetv2_ssd_lite_predictor(net, candidate_size=200)\n",
    "\n",
    "net.load(model_path)"
   ]
  },
  {
   "cell_type": "code",
   "execution_count": 8,
   "metadata": {},
   "outputs": [],
   "source": [
    "# Create capture object\n",
    "cap = cv2.VideoCapture(5) # Flush the stream\n",
    "\n",
    "#cap = cv2.VideoCapture(1) # Then start the webcam\n",
    "# cap = cv2.VideoCapture('video/wind_rain.mp4')\n",
    "cap = cv2.VideoCapture('video/normal_night.mp4')\n",
    "# cap = cv2.VideoCapture('video/dark.mp4')\n",
    "# cap = cv2.VideoCapture('video/622.mp4')\n",
    "# cap = cv2.VideoCapture(0)   # capture from camera\n",
    "# cap.set(3, 1920)\n",
    "# cap.set(4, 1080)\n",
    "\n",
    "cv2.namedWindow(\"frame\",0);\n",
    "cv2.resizeWindow(\"frame\", 750, 750);\n",
    "\n",
    "while(cap.isOpened()):\n",
    "    ret, frame = cap.read()\n",
    "    if (frame is not None):\n",
    "        image = cv2.cvtColor(frame, cv2.COLOR_BGR2RGB)\n",
    "        boxes, labels, probs = predictor.predict(image, 10, 0.25)\n",
    "        for i in range(boxes.size(0)):\n",
    "            box = boxes[i, :]\n",
    "            label = f\"{class_names[labels[i]]}: {probs[i]:.2f}\"\n",
    "            cv2.rectangle(frame, (box[0], box[1]), (box[2], box[3]), (255, 255, 0), 4)\n",
    "\n",
    "            cv2.putText(frame, label,\n",
    "                        (box[0]+20, box[1]+40),\n",
    "                        cv2.FONT_HERSHEY_SIMPLEX,\n",
    "                        1,  # font scale\n",
    "                        (255, 0, 255),\n",
    "                        2)  # line type\n",
    "\n",
    "\n",
    "        cv2.imshow('frame',frame)\n",
    "    if cv2.waitKey(1) & 0xFF == ord('q'):\n",
    "        break\n",
    "\n",
    "cap.release()\n",
    "cv2.destroyAllWindows()"
   ]
  }
 ],
 "metadata": {
  "kernelspec": {
   "display_name": "Python 3",
   "language": "python",
   "name": "python3"
  },
  "language_info": {
   "codemirror_mode": {
    "name": "ipython",
    "version": 3
   },
   "file_extension": ".py",
   "mimetype": "text/x-python",
   "name": "python",
   "nbconvert_exporter": "python",
   "pygments_lexer": "ipython3",
   "version": "3.7.4"
  }
 },
 "nbformat": 4,
 "nbformat_minor": 4
}
